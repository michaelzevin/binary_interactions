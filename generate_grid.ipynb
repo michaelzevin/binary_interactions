{
 "cells": [
  {
   "cell_type": "code",
   "execution_count": 3,
   "metadata": {
    "collapsed": true
   },
   "outputs": [],
   "source": [
    "import numpy as np\n",
    "import pandas as pd\n",
    "import random\n",
    "import scipy.optimize\n",
    "import itertools"
   ]
  },
  {
   "cell_type": "code",
   "execution_count": 5,
   "metadata": {},
   "outputs": [],
   "source": [
    "def m1(M,q):\n",
    "    comp_m1 = M/(1+q)\n",
    "    return comp_m1\n",
    "\n",
    "def m2(M,q):\n",
    "    comp_m2 = q*M/(1+q)\n",
    "    return comp_m2\n",
    "\n",
    "def M(m1,m2):\n",
    "    return m1+m2\n",
    "\n",
    "def v_crit(m11,m12,m21,m22,a1,a2):\n",
    "    # G=1\n",
    "    return np.sqrt(((M(m11,m12)+M(m21,m22)) / (M(m11,m12)*M(m21,m22))) * ((m11*m12/a1)+(m21*m22/a2)))\n",
    "\n",
    "def b_max(v,a1):\n",
    "    return (4./v + 3)*a1   # note: v is v/v_crit"
   ]
  },
  {
   "cell_type": "code",
   "execution_count": 6,
   "metadata": {},
   "outputs": [],
   "source": [
    "# model system, and grid we will use for varying parameters\n",
    "mdl_sys={}\n",
    "mdl_sys['v'] = [1.0]   # v_inf/v_crit\n",
    "mdl_sys['m'] = [10.0]   # Msun\n",
    "mdl_sys['a'] = [1.0]   # AU\n",
    "mdl_sys['e'] = [0.0000001]   # not exactly 0 to avoid numerical issues\n",
    "mdl_sys['alpha'] = [1.0]\n",
    "mdl_sys['q'] = [1.0]\n",
    "\n",
    "# grids\n",
    "gs = 50   # grid size\n",
    "alpha_grid = np.logspace(-2,1,gs)\n",
    "e1_grid = np.linspace(0.00001,0.98,gs)\n",
    "e2_grid = np.linspace(0.00001,0.98,gs)\n",
    "q_grid = np.logspace(np.log10(0.03),np.log10(40),gs)\n",
    "v_grid = np.logspace(-1,1,gs)\n",
    "\n",
    "# specify which parameter we want to vary\n",
    "grid_path = 'grid_files/grid_v.dat'\n",
    "alpha = mdl_sys['alpha']\n",
    "e1 = mdl_sys['e']\n",
    "e2 = mdl_sys['e']\n",
    "q = mdl_sys['q']\n",
    "v = v_grid #mdl_sys['v']\n",
    "\n",
    "dat = list(itertools.product(alpha, e1, e2, q, v))\n",
    "dat = np.asarray(dat)\n",
    "df = pd.DataFrame(dat,columns=['alpha','e1','e2','q','v_inf/v_crit'])"
   ]
  },
  {
   "cell_type": "code",
   "execution_count": 7,
   "metadata": {
    "collapsed": true
   },
   "outputs": [],
   "source": [
    "# 0:M, 1:q, 2:a, 3:e, 4:b, 5:v_crit\n",
    "f = open(grid_path, 'w')\n",
    "f.write('1:b/(a1+a2) 2:v/v_crit 3:m11 4:m12 5:a1 6:e1 7:m21 8:m22 9:a2 10:e2 11:n_exchange 12:n_s 13:n_b 14:n_b')\n",
    "f.close()\n",
    "for i in xrange(len(dat)):\n",
    "    a1 = df['alpha'].iloc[i]*mdl_sys['a'][0]\n",
    "    a2 = mdl_sys['a'][0]\n",
    "    e1 = df['e1'].iloc[i]\n",
    "    e2 = df['e1'].iloc[i]\n",
    "    m11 = mdl_sys['m'][0]*df['q'].iloc[i]\n",
    "    m12 = mdl_sys['m'][0]\n",
    "    m21 = mdl_sys['m'][0]\n",
    "    m22 = mdl_sys['m'][0]\n",
    "    v_vcrit = df['v_inf/v_crit'].iloc[i]\n",
    "    b = b_max(v_vcrit,a1)\n",
    "    f = open(grid_path, 'a')\n",
    "    f.write('\\n%f %f %f %f %f %f %f %f %f %f 0 0 0 0' % \\\n",
    "            (b/(a1+a2),v_vcrit,m11,m12,a1,e1,m21,m22,a2,e2))\n",
    "    f.close()"
   ]
  },
  {
   "cell_type": "code",
   "execution_count": null,
   "metadata": {
    "collapsed": true
   },
   "outputs": [],
   "source": []
  }
 ],
 "metadata": {
  "kernelspec": {
   "display_name": "Python 2",
   "language": "python",
   "name": "python2"
  },
  "language_info": {
   "codemirror_mode": {
    "name": "ipython",
    "version": 2
   },
   "file_extension": ".py",
   "mimetype": "text/x-python",
   "name": "python",
   "nbconvert_exporter": "python",
   "pygments_lexer": "ipython2",
   "version": "2.7.13"
  }
 },
 "nbformat": 4,
 "nbformat_minor": 2
}
