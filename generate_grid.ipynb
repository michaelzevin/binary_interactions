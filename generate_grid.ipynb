{
 "cells": [
  {
   "cell_type": "code",
   "execution_count": 2,
   "metadata": {
    "collapsed": true
   },
   "outputs": [],
   "source": [
    "import numpy as np\n",
    "import pandas as pd\n",
    "import random\n",
    "import scipy.optimize\n",
    "import itertools"
   ]
  },
  {
   "cell_type": "code",
   "execution_count": 3,
   "metadata": {
    "collapsed": true
   },
   "outputs": [],
   "source": [
    "def m1(M,q):\n",
    "    comp_m1 = M/(1+q)\n",
    "    return comp_m1\n",
    "\n",
    "def m2(M,q):\n",
    "    comp_m2 = q*M/(1+q)\n",
    "    return comp_m2\n",
    "\n",
    "def M(m1,m2):\n",
    "    return m1+m2\n",
    "\n",
    "def v_crit(m11,m12,m21,m22,a1,a2):\n",
    "    # G=1\n",
    "    return np.sqrt(((M(m11,m12)+M(m21,m22)) / (M(m11,m12)*M(m21,m22))) * ((m11*m12/a1)+(m21*m22/a2)))\n",
    "\n",
    "def b_max(vinf_vcrit,a_max):\n",
    "    return (4./vinf_vcrit + 3)*a_max   # note: v is v_inf/v_crit"
   ]
  },
  {
   "cell_type": "code",
   "execution_count": 101,
   "metadata": {},
   "outputs": [],
   "source": [
    "# model system, and grid we will use for varying parameters\n",
    "mdl_sys={}\n",
    "mdl_sys['v'] = 0.01    # v_inf/v_crit\n",
    "mdl_sys['m'] = 20.0   # Msun\n",
    "mdl_sys['a'] = 1.0   # AU\n",
    "mdl_sys['e'] = 0.0\n",
    "mdl_sys['alpha'] = 1.0  # a2/a1\n",
    "mdl_sys['q'] = 1.0      # m2/m1\n",
    "for key, val in zip(mdl_sys.keys(), mdl_sys.values()):\n",
    "    mdl_sys[key] = np.asarray([val])\n",
    "\n",
    "# grids\n",
    "gs = 50   # grid size\n",
    "a_grid = np.logspace(-2,2,gs)\n",
    "alpha_grid = np.logspace(-2,2,gs)\n",
    "e1_grid = np.linspace(0.0,0.98,gs)\n",
    "e2_grid = np.linspace(0.0,0.98,gs)\n",
    "q_grid = np.logspace(np.log10(0.03),np.log10(40),gs)\n",
    "v_grid = np.logspace(-2,2,gs)\n",
    "\n",
    "# specify which parameter we want to vary\n",
    "q1 = mdl_sys['q']\n",
    "q2 = mdl_sys['q']\n",
    "alpha = mdl_sys['alpha']\n",
    "\n",
    "v = mdl_sys['v']\n",
    "m11 = mdl_sys['m']\n",
    "m12 = mdl_sys['m'] * q1\n",
    "a1 = a_grid\n",
    "e1 = mdl_sys['e']\n",
    "m21 = mdl_sys['m']\n",
    "m22 = mdl_sys['m'] * q2\n",
    "a2 = a_grid * mdl_sys['alpha']\n",
    "e2 = mdl_sys['e']\n",
    "\n",
    "\n",
    "dat = list(itertools.product(v, m11, m12, a1, e1, m21, m22, e2))\n",
    "dat = np.asarray(dat)\n",
    "df = pd.DataFrame(dat,columns=['v_inf/v_crit','m11','m12','a1','e1','m21','m22','e2'])\n",
    "\n",
    "# for the grid over a...\n",
    "df['a2'] = df['a1']"
   ]
  },
  {
   "cell_type": "code",
   "execution_count": 92,
   "metadata": {},
   "outputs": [],
   "source": [
    "# 4-body\n",
    "grid_name = 'SMA_20M_0.01V_binbin'\n",
    "grid_path = 'grid_files/'+grid_name+'.dat'\n",
    "gridinfo_path = 'grid_files/'+grid_name+'_info.txt'\n",
    "\n",
    "f = open(gridinfo_path, 'w')\n",
    "f.write('GRID: N_points=%i \\n q1: %f-%f \\n q2: %f-%f \\n alpha: %f-%f \\n vinf_crit: %f-%f \\n \\\n",
    "m11: %f-%f \\n m12: %f-%f \\n a1: %f-%f \\n e1: %f-%f \\n \\\n",
    "m21: %f-%f \\n m22: %f-%f \\n a2: %f-%f \\n e2: %f-%f' % \\\n",
    "       (gs,min(q1),max(q1),min(q2),max(q2),min(alpha),max(alpha),min(v),max(v),\\\n",
    "        min(m11),max(m11),min(m12),max(m12),min(a1),max(a1),min(e1),max(e1), \\\n",
    "        min(m21),max(m21),min(m22),max(m22),min(a2),max(a2),min(e2),max(e2)))\n",
    "f.close()\n",
    "\n",
    "f = open(grid_path, 'w')\n",
    "f.write('1:b/(a1+a2) 2:v/v_crit 3:m11(msun) 4:m12 5:a1(AU) 6:e1 7:m21 8:m22 9:a2 10:e2')\n",
    "f.close()\n",
    "\n",
    "for i in xrange(len(dat)):\n",
    "    a1 = df['a1'].iloc[i]\n",
    "    a2 = df['a2'].iloc[i]\n",
    "    e1 = df['e1'].iloc[i]\n",
    "    e2 = df['e2'].iloc[i]\n",
    "    m11 = df['m11'].iloc[i]\n",
    "    m12 = df['m12'].iloc[i]\n",
    "    m21 = df['m21'].iloc[i]\n",
    "    m22 = df['m22'].iloc[i]\n",
    "    v_vcrit = df['v_inf/v_crit'].iloc[i]\n",
    "    # NOTE: gotta check this...also can use (a1+a2)\n",
    "    if a1>=a2:\n",
    "        b = b_max(v_vcrit,a1)\n",
    "    else:\n",
    "        b = b_max(v_vcrit,a2)\n",
    "    f = open(grid_path, 'a')\n",
    "    f.write('\\n%f %f %f %f %f %f %f %f %f %f' % \\\n",
    "            (b/(a1+a2),v_vcrit,m11,m12,a1,e1,m21,m22,a2,e2))\n",
    "    f.close()\n",
    "    "
   ]
  },
  {
   "cell_type": "code",
   "execution_count": 102,
   "metadata": {},
   "outputs": [],
   "source": [
    "# 3-body   \n",
    "grid_name = 'SMA_20M_0.01V_binsin'\n",
    "grid_path = 'grid_files/'+grid_name+'.dat'\n",
    "gridinfo_path = 'grid_files/'+grid_name+'_info.txt'\n",
    "\n",
    "f = open(gridinfo_path, 'w')\n",
    "f.write('GRID: N_points=%i \\n q: %f-%f \\n vinf_crit: %f-%f \\n \\\n",
    "m11: %f-%f \\n m12: %f-%f \\n a1: %f-%f \\n e1: %f-%f \\n m21: %f-%f' % \\\n",
    "       (gs,min(q),max(q),min(v),max(v),\\\n",
    "        min(m11),max(m11),min(m12),max(m12),min(a1),max(a1),min(e1),max(e1), \\\n",
    "        min(m21),max(m21)))\n",
    "f.close()\n",
    "\n",
    "f = open(grid_path, 'w')\n",
    "f.write('1:b/a 2:v/v_crit 3:m1(msun) 4:m2 5:a(AU) 6:e 7:m_s')\n",
    "f.close()\n",
    "\n",
    "for i in xrange(len(dat)):\n",
    "    a = df['a1'].iloc[i]\n",
    "    e = df['e1'].iloc[i]\n",
    "    m11 = df['m11'].iloc[i]\n",
    "    m12 = df['m12'].iloc[i]\n",
    "    m21 = df['m21'].iloc[i]\n",
    "    v_vcrit = df['v_inf/v_crit'].iloc[i]\n",
    "    b = b_max(v_vcrit,a)\n",
    "    f = open(grid_path, 'a')\n",
    "    f.write('\\n%f %f %f %f %f %f %f' % \\\n",
    "            (b/a,v_vcrit,m11,m12,a,e,m21))\n",
    "    f.close()"
   ]
  },
  {
   "cell_type": "code",
   "execution_count": null,
   "metadata": {
    "collapsed": true
   },
   "outputs": [],
   "source": []
  }
 ],
 "metadata": {
  "kernelspec": {
   "display_name": "Python 3",
   "language": "python",
   "name": "python3"
  },
  "language_info": {
   "codemirror_mode": {
    "name": "ipython",
    "version": 3
   },
   "file_extension": ".py",
   "mimetype": "text/x-python",
   "name": "python",
   "nbconvert_exporter": "python",
   "pygments_lexer": "ipython3",
   "version": "3.6.4"
  }
 },
 "nbformat": 4,
 "nbformat_minor": 2
}
