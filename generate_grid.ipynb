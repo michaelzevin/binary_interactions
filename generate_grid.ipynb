{
 "cells": [
  {
   "cell_type": "code",
   "execution_count": 1,
   "metadata": {
    "collapsed": true
   },
   "outputs": [],
   "source": [
    "import numpy as np\n",
    "import pandas as pd\n",
    "import random\n",
    "import scipy.optimize\n",
    "import itertools"
   ]
  },
  {
   "cell_type": "code",
   "execution_count": 2,
   "metadata": {
    "collapsed": true
   },
   "outputs": [],
   "source": [
    "def m1(M,q):\n",
    "    comp_m1 = M/(1+q)\n",
    "    return comp_m1\n",
    "\n",
    "def m2(M,q):\n",
    "    comp_m2 = q*M/(1+q)\n",
    "    return comp_m2\n",
    "\n",
    "def M(m1,m2):\n",
    "    return m1+m2\n",
    "\n",
    "def v_crit(m11,m12,m21,m22,a1,a2):\n",
    "    # G=1\n",
    "    return np.sqrt(((M(m11,m12)+M(m21,m22)) / (M(m11,m12)*M(m21,m22))) * ((m11*m12/a1)+(m21*m22/a2)))\n",
    "\n",
    "def b_max(v,a1):\n",
    "    return (4./v + 3)*a1   # note: v is v/v_crit"
   ]
  },
  {
   "cell_type": "code",
   "execution_count": 7,
   "metadata": {
    "collapsed": true
   },
   "outputs": [],
   "source": [
    "# model system, and grid we will use for varying parameters\n",
    "mdl_sys={}\n",
    "mdl_sys['v'] = list([0.01])    # v_inf/v_crit\n",
    "mdl_sys['m'] = list([20.0])   # Msun\n",
    "mdl_sys['a'] = list([1.0])   # AU\n",
    "mdl_sys['e'] = list([0.000001])\n",
    "mdl_sys['alpha'] = list([1.0])\n",
    "mdl_sys['q'] = list([1.0])\n",
    "\n",
    "# grids\n",
    "gs = 50   # grid size\n",
    "alpha_grid = np.logspace(-2,2,gs)\n",
    "e1_grid = np.linspace(0.00001,0.98,gs)\n",
    "e2_grid = np.linspace(0.00001,0.98,gs)\n",
    "q_grid = np.logspace(np.log10(0.03),np.log10(40),gs)\n",
    "v_grid = np.logspace(-2,2,gs)\n",
    "\n",
    "# specify which parameter we want to vary\n",
    "alpha = alpha_grid# mdl_sys['alpha']\n",
    "e1 = mdl_sys['e']\n",
    "e2 = mdl_sys['e']\n",
    "q = mdl_sys['q']\n",
    "v = mdl_sys['v']\n",
    "\n",
    "dat = list(itertools.product(alpha, e1, e2, q, v))\n",
    "dat = np.asarray(dat)\n",
    "df = pd.DataFrame(dat,columns=['alpha','e1','e2','q','v_inf/v_crit'])"
   ]
  },
  {
   "cell_type": "code",
   "execution_count": 8,
   "metadata": {},
   "outputs": [],
   "source": [
    "# 4-body\n",
    "# 0:M, 1:q, 2:a, 3:e, 4:b, 5:v_crit\n",
    "grid_name = 'grid_alpha_20M_1AU_0.01V'\n",
    "grid_path = 'grid_files/'+grid_name+'.dat'\n",
    "gridinfo_path = 'grid_files/'+grid_name+'_info.txt'\n",
    "\n",
    "f = open(gridinfo_path, 'w')\n",
    "f.write('MODEL SYSTEM: m: %f Msun, alpha: %f, a: %f AU, e: %f, q: %f, v: %f v_inf/v_crit \\n' % \\\n",
    "        (mdl_sys['m'][0], mdl_sys['alpha'][0], mdl_sys['a'][0], mdl_sys['e'][0], mdl_sys['q'][0], mdl_sys['v'][0]))\n",
    "f.write('GRID: alpha: %f - %f, e1: %f - %f, e2: %f - %f, q: %f - %f, v: %f - %f \\n' % \\\n",
    "            (min(alpha),max(alpha),min(e1),max(e1),min(e2),max(e2),min(q),max(q),min(v),max(v)))\n",
    "f.close()\n",
    "\n",
    "f = open(grid_path, 'w')\n",
    "f.write('1:b/(a1+a2) 2:v/v_crit 3:m11(msun) 4:m12 5:a1(AU) 6:e1 7:m21 8:m22 9:a2 10:e2 11:n_exchange 12:n_s 13:n_b 14:n_b 15:t 16:r')\n",
    "f.close()\n",
    "\n",
    "for i in xrange(len(dat)):\n",
    "    a1 = mdl_sys['a'][0]\n",
    "    a2 = df['alpha'].iloc[i]*mdl_sys['a'][0]\n",
    "    e1 = df['e1'].iloc[i]\n",
    "    e2 = df['e1'].iloc[i]\n",
    "    m11 = mdl_sys['m'][0]*df['q'].iloc[i]\n",
    "    m12 = mdl_sys['m'][0]\n",
    "    m21 = mdl_sys['m'][0]\n",
    "    m22 = mdl_sys['m'][0]\n",
    "    v_vcrit = df['v_inf/v_crit'].iloc[i]\n",
    "    b = b_max(v_vcrit,a1)\n",
    "    f = open(grid_path, 'a')\n",
    "    f.write('\\n%f %f %f %f %f %f %f %f %f %f 0 0 0 0 0 0' % \\\n",
    "            (b/(a1+a2),v_vcrit,m11,m12,a1,e1,m21,m22,a2,e2))\n",
    "    f.close()\n",
    "    "
   ]
  },
  {
   "cell_type": "code",
   "execution_count": 91,
   "metadata": {},
   "outputs": [
    {
     "ename": "TypeError",
     "evalue": "'numpy.float64' object is not iterable",
     "output_type": "error",
     "traceback": [
      "\u001b[0;31m---------------------------------------------------------------------------\u001b[0m",
      "\u001b[0;31mTypeError\u001b[0m                                 Traceback (most recent call last)",
      "\u001b[0;32m<ipython-input-91-586bdff9bca4>\u001b[0m in \u001b[0;36m<module>\u001b[0;34m()\u001b[0m\n\u001b[1;32m      9\u001b[0m \u001b[0mf\u001b[0m\u001b[0;34m.\u001b[0m\u001b[0mclose\u001b[0m\u001b[0;34m(\u001b[0m\u001b[0;34m)\u001b[0m\u001b[0;34m\u001b[0m\u001b[0m\n\u001b[1;32m     10\u001b[0m \u001b[0mf\u001b[0m \u001b[0;34m=\u001b[0m \u001b[0mopen\u001b[0m\u001b[0;34m(\u001b[0m\u001b[0mgridinfo_path\u001b[0m\u001b[0;34m,\u001b[0m \u001b[0;34m'a'\u001b[0m\u001b[0;34m)\u001b[0m\u001b[0;34m\u001b[0m\u001b[0m\n\u001b[0;32m---> 11\u001b[0;31m \u001b[0mf\u001b[0m\u001b[0;34m.\u001b[0m\u001b[0mwrite\u001b[0m\u001b[0;34m(\u001b[0m\u001b[0;34m'\\nGRID: alpha: %f - %f, e1: %f - %f, e2: %f - %f, q: %f - %f, v: %f - %f'\u001b[0m \u001b[0;34m%\u001b[0m             \u001b[0;34m(\u001b[0m\u001b[0mmin\u001b[0m\u001b[0;34m(\u001b[0m\u001b[0malpha\u001b[0m\u001b[0;34m)\u001b[0m\u001b[0;34m,\u001b[0m\u001b[0mmax\u001b[0m\u001b[0;34m(\u001b[0m\u001b[0malpha\u001b[0m\u001b[0;34m)\u001b[0m\u001b[0;34m,\u001b[0m\u001b[0mmin\u001b[0m\u001b[0;34m(\u001b[0m\u001b[0me1\u001b[0m\u001b[0;34m)\u001b[0m\u001b[0;34m,\u001b[0m\u001b[0mmax\u001b[0m\u001b[0;34m(\u001b[0m\u001b[0me1\u001b[0m\u001b[0;34m)\u001b[0m\u001b[0;34m,\u001b[0m\u001b[0mmin\u001b[0m\u001b[0;34m(\u001b[0m\u001b[0me2\u001b[0m\u001b[0;34m)\u001b[0m\u001b[0;34m,\u001b[0m\u001b[0mmax\u001b[0m\u001b[0;34m(\u001b[0m\u001b[0me2\u001b[0m\u001b[0;34m)\u001b[0m\u001b[0;34m,\u001b[0m\u001b[0mmin\u001b[0m\u001b[0;34m(\u001b[0m\u001b[0mq\u001b[0m\u001b[0;34m)\u001b[0m\u001b[0;34m,\u001b[0m\u001b[0mmax\u001b[0m\u001b[0;34m(\u001b[0m\u001b[0mq\u001b[0m\u001b[0;34m)\u001b[0m\u001b[0;34m,\u001b[0m\u001b[0mmin\u001b[0m\u001b[0;34m(\u001b[0m\u001b[0mv\u001b[0m\u001b[0;34m)\u001b[0m\u001b[0;34m,\u001b[0m\u001b[0mmax\u001b[0m\u001b[0;34m(\u001b[0m\u001b[0mv\u001b[0m\u001b[0;34m)\u001b[0m\u001b[0;34m)\u001b[0m\u001b[0;34m)\u001b[0m\u001b[0;34m\u001b[0m\u001b[0m\n\u001b[0m\u001b[1;32m     12\u001b[0m \u001b[0mf\u001b[0m\u001b[0;34m.\u001b[0m\u001b[0mclose\u001b[0m\u001b[0;34m(\u001b[0m\u001b[0;34m)\u001b[0m\u001b[0;34m\u001b[0m\u001b[0m\n\u001b[1;32m     13\u001b[0m \u001b[0;34m\u001b[0m\u001b[0m\n",
      "\u001b[0;31mTypeError\u001b[0m: 'numpy.float64' object is not iterable"
     ]
    }
   ],
   "source": [
    "# 3-body   \n",
    "# 0:M, 1:q, 2:a, 3:e, 4:b, 5:v_crit\n",
    "grid_name = 'grid_v_samsing'\n",
    "grid_path = 'grid_files/'+grid_name+'.dat'\n",
    "gridinfo_path = 'grid_files/'+grid_name+'_info.txt'\n",
    "\n",
    "f = open(gridinfo_path, 'w')\n",
    "f.write('MODEL SYSTEM: m: %f, alpha: %f, a: %f, e: %f, q: %f, v: %f \\n' % \\\n",
    "        (mdl_sys['m'][0], mdl_sys['alpha'][0], mdl_sys['a'][0], mdl_sys['e'][0], mdl_sys['q'][0], mdl_sys['v'][0]))\n",
    "f.write('GRID: alpha: %f - %f, e1: %f - %f, e2: %f - %f, q: %f - %f, v: %f - %f \\n' % \\\n",
    "            (min(alpha),max(alpha),min(e1),max(e1),min(e2),max(e2),min(q),max(q),min(v),max(v)))\n",
    "f.close()\n",
    "\n",
    "f = open(grid_path, 'w')\n",
    "f.write('1:b/a 2:v/v_crit 3:m1(msun) 4:m2 5:a(AU) 6:e 7:m_s 8:n_exchange 9:n_s 10:n_b 11:n_b 12:t 13:r')\n",
    "f.close()\n",
    "\n",
    "for i in xrange(len(dat)):\n",
    "    a = df['alpha'].iloc[i]*mdl_sys['a'][0]\n",
    "    e = df['e1'].iloc[i]\n",
    "    m11 = mdl_sys['m'][0]*df['q'].iloc[i]\n",
    "    m12 = mdl_sys['m'][0]\n",
    "    m21 = mdl_sys['m'][0]\n",
    "    v_vcrit = df['v_inf/v_crit'].iloc[i]\n",
    "    b = b_max(v_vcrit,a)\n",
    "    f = open(grid_path, 'a')\n",
    "    f.write('\\n%f %f %f %f %f %f %f 0 0 0 0 0 0' % \\\n",
    "            (b/a,v_vcrit,m11,m12,a,e,m21))\n",
    "    f.close()"
   ]
  },
  {
   "cell_type": "code",
   "execution_count": null,
   "metadata": {
    "collapsed": true
   },
   "outputs": [],
   "source": []
  }
 ],
 "metadata": {
  "kernelspec": {
   "display_name": "Python 2",
   "language": "python",
   "name": "python2"
  },
  "language_info": {
   "codemirror_mode": {
    "name": "ipython",
    "version": 2
   },
   "file_extension": ".py",
   "mimetype": "text/x-python",
   "name": "python",
   "nbconvert_exporter": "python",
   "pygments_lexer": "ipython2",
   "version": "2.7.14"
  }
 },
 "nbformat": 4,
 "nbformat_minor": 2
}
